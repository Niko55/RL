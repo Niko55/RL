{
  "nbformat": 4,
  "nbformat_minor": 0,
  "metadata": {
    "colab": {
      "name": "ucb_1.ipynb",
      "provenance": [],
      "collapsed_sections": []
    },
    "kernelspec": {
      "name": "python3",
      "display_name": "Python 3"
    }
  },
  "cells": [
    {
      "cell_type": "code",
      "metadata": {
        "id": "zT-kXNAt8_Wj",
        "colab_type": "code",
        "colab": {}
      },
      "source": [
        "import gym_bandits\n",
        "import gym\n",
        "import numpy as np\n",
        "import math\n",
        "import random\n",
        "env = gym.make(\"BanditTenArmedGaussian-v0\")"
      ],
      "execution_count": 0,
      "outputs": []
    },
    {
      "cell_type": "code",
      "metadata": {
        "id": "FNvdTiTN9Mv0",
        "colab_type": "code",
        "colab": {}
      },
      "source": [
        "# number of rounds (iterations)\n",
        "num_rounds = 5000\n",
        "\n",
        "# Count of number of times an arm was pulled\n",
        "count = np.zeros(10)\n",
        "\n",
        "# Sum of rewards of each arm\n",
        "sum_rewards = np.zeros(10)\n",
        "\n",
        "# Q value which is the average reward\n",
        "Q = np.zeros(10)\n",
        "\n",
        "# iterations\n",
        "n = 100\n",
        "\n",
        "# Number of arms\n",
        "K = 10"
      ],
      "execution_count": 0,
      "outputs": []
    },
    {
      "cell_type": "code",
      "metadata": {
        "id": "8u8lfhM19M07",
        "colab_type": "code",
        "colab": {}
      },
      "source": [
        "def UCB(iters):\n",
        "    \n",
        "    ucb = np.zeros(10)\n",
        "    \n",
        "    #explore all the arms\n",
        "    if iters < 10:\n",
        "        return i\n",
        "    \n",
        "    else:\n",
        "        for arm in range(10):\n",
        "            \n",
        "            # calculate upper bound\n",
        "            upper_bound = math.sqrt((2*math.log(sum(count))) / count[arm])\n",
        "            \n",
        "            # add upper bound to the Q valyue\n",
        "            ucb[arm] = Q[arm] + upper_bound\n",
        "            \n",
        "        # return the arm which has maximum value\n",
        "        return (np.argmax(ucb))"
      ],
      "execution_count": 0,
      "outputs": []
    },
    {
      "cell_type": "code",
      "metadata": {
        "id": "S0-rOTySCN-r",
        "colab_type": "code",
        "colab": {
          "base_uri": "https://localhost:8080/",
          "height": 272
        },
        "outputId": "f08f37c1-94ba-4450-dd5b-1a10ec0d18a6"
      },
      "source": [
        "R = np.zeros((n, num_rounds))\n",
        "\n",
        "for _ in range(n):\n",
        "  for i in range(num_rounds):\n",
        "\n",
        "    arm = UCB(i)\n",
        "    \n",
        "    # receive rewards\n",
        "    observation, reward, done, info = env.step(arm) \n",
        "    \n",
        "    # update the count of that arm\n",
        "    count[arm] += 1\n",
        "    \n",
        "    # Sum the rewards obtained from the arm\n",
        "    sum_rewards[arm]+=reward\n",
        "    \n",
        "    # calculate Q value which is the average rewards of the arm\n",
        "    Q[arm] = sum_rewards[arm]/count[arm]\n",
        "\n",
        "    R[_][i] = np.mean(Q)\n",
        "    \n",
        "print( 'The optimal arm is {}'.format(np.argmax(Q)))\n",
        "print(R)\n",
        "R.shape"
      ],
      "execution_count": 4,
      "outputs": [
        {
          "output_type": "stream",
          "text": [
            "The optimal arm is 5\n",
            "[[-0.30761638 -0.08728405  0.10780487 ...  0.15975698  0.15976934\n",
            "   0.15978226]\n",
            " [ 0.27261381  0.27025062  0.2682789  ...  0.20160215  0.20161211\n",
            "   0.2016137 ]\n",
            " [ 0.24033322  0.23569452  0.23236997 ...  0.17828815  0.17828008\n",
            "   0.17828901]\n",
            " ...\n",
            " [ 0.44970463  0.4498288   0.44972623 ...  0.44850957  0.44850991\n",
            "   0.4485099 ]\n",
            " [ 0.44994488  0.44961696  0.44968961 ...  0.45022389  0.45022403\n",
            "   0.45022425]\n",
            " [ 0.4492093   0.44875392  0.44844957 ...  0.45270647  0.45270648\n",
            "   0.45270648]]\n"
          ],
          "name": "stdout"
        },
        {
          "output_type": "execute_result",
          "data": {
            "text/plain": [
              "(100, 5000)"
            ]
          },
          "metadata": {
            "tags": []
          },
          "execution_count": 4
        }
      ]
    },
    {
      "cell_type": "code",
      "metadata": {
        "id": "-NLlK5L_COEs",
        "colab_type": "code",
        "colab": {
          "base_uri": "https://localhost:8080/",
          "height": 51
        },
        "outputId": "a0f3a468-ca86-472a-ab3b-db1757b21794"
      },
      "source": [
        "l = R.mean(0)\n",
        "print(l)\n",
        "len(l)"
      ],
      "execution_count": 5,
      "outputs": [
        {
          "output_type": "stream",
          "text": [
            "[0.41460886 0.41676146 0.41878887 ... 0.41979153 0.41979173 0.41979198]\n"
          ],
          "name": "stdout"
        },
        {
          "output_type": "execute_result",
          "data": {
            "text/plain": [
              "5000"
            ]
          },
          "metadata": {
            "tags": []
          },
          "execution_count": 5
        }
      ]
    },
    {
      "cell_type": "code",
      "metadata": {
        "id": "eoNWYECSFSyW",
        "colab_type": "code",
        "colab": {
          "base_uri": "https://localhost:8080/",
          "height": 296
        },
        "outputId": "7318ea62-a773-4dbc-cfa6-fef472d81a1a"
      },
      "source": [
        "%matplotlib inline\n",
        "import matplotlib.pyplot as plt\n",
        "\n",
        "plt.plot(l)\n",
        "plt.xlabel('Time')\n",
        "plt.ylabel('Reward for UCB 1')"
      ],
      "execution_count": 6,
      "outputs": [
        {
          "output_type": "execute_result",
          "data": {
            "text/plain": [
              "Text(0, 0.5, 'Reward for UCB 1')"
            ]
          },
          "metadata": {
            "tags": []
          },
          "execution_count": 6
        },
        {
          "output_type": "display_data",
          "data": {
            "image/png": "[encoded data removed]",
            "text/plain": [
              "<Figure size 432x288 with 1 Axes>"
            ]
          },
          "metadata": {
            "tags": []
          }
        }
      ]
    }
  ]
}