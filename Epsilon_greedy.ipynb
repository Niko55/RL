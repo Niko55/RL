{
  "nbformat": 4,
  "nbformat_minor": 0,
  "metadata": {
    "colab": {
      "name": "Epsilon_greedy.ipynb",
      "provenance": [],
      "collapsed_sections": [],
      "authorship_tag": "ABX9TyP/MUYZOHASR99q2A9dSMnN",
      "include_colab_link": true
    },
    "kernelspec": {
      "name": "python3",
      "display_name": "Python 3"
    }
  },
  "cells": [
    {
      "cell_type": "markdown",
      "metadata": {
        "id": "view-in-github",
        "colab_type": "text"
      },
      "source": [
        "<a href=\"https://colab.research.google.com/github/Niko55/RL/blob/master/Epsilon_greedy.ipynb\" target=\"_parent\"><img src=\"https://colab.research.google.com/assets/colab-badge.svg\" alt=\"Open In Colab\"/></a>"
      ]
    },
    {
      "cell_type": "code",
      "metadata": {
        "id": "lgm0JMkQGM4L",
        "colab_type": "code",
        "colab": {}
      },
      "source": [
        "import gym_bandits\n",
        "import gym\n",
        "import numpy as np\n",
        "import math\n",
        "import random\n",
        "env = gym.make(\"BanditTenArmedGaussian-v0\")"
      ],
      "execution_count": 0,
      "outputs": []
    },
    {
      "cell_type": "code",
      "metadata": {
        "id": "5ApwRQmPGM8z",
        "colab_type": "code",
        "colab": {}
      },
      "source": [
        "def epsilon_greedy(epsilon):\n",
        "    \n",
        "    rand = np.random.random()  \n",
        "    if rand < epsilon:\n",
        "        action =  env.action_space.sample()\n",
        "    else:\n",
        "        action = np.argmax(Q)\n",
        "    \n",
        "    return action"
      ],
      "execution_count": 0,
      "outputs": []
    },
    {
      "cell_type": "code",
      "metadata": {
        "id": "RwH_cRr6GM-q",
        "colab_type": "code",
        "colab": {}
      },
      "source": [
        "# number of rounds (iterations)\n",
        "num_rounds = 20000\n",
        "\n",
        "# Count of number of times an arm was pulled\n",
        "count = np.zeros(10)\n",
        "\n",
        "# Sum of rewards of each arm\n",
        "sum_rewards = np.zeros(10)\n",
        "\n",
        "# Q value which is the average reward\n",
        "Q = np.zeros(10)\n",
        "\n",
        "# iterations\n",
        "iters = 100"
      ],
      "execution_count": 0,
      "outputs": []
    },
    {
      "cell_type": "code",
      "metadata": {
        "id": "dSEYldgXGNAy",
        "colab_type": "code",
        "outputId": "68bd44b5-37da-4317-92f3-aa7bde6e7161",
        "colab": {
          "base_uri": "https://localhost:8080/",
          "height": 34
        }
      },
      "source": [
        "R = np.zeros((iters, num_rounds))\n",
        "for _ in range(iters):\n",
        "  for i in range(num_rounds):\n",
        "    \n",
        "    # Select the arm using epsilon greedy \n",
        "    arm = epsilon_greedy(0.0)\n",
        "    \n",
        "    # Get the reward\n",
        "    observation, reward, done, info = env.step(arm) \n",
        "    #print(reward)\n",
        "    # update the count of that arm\n",
        "    count[arm] += 1\n",
        "    \n",
        "    # Sum the rewards obtained from the arm\n",
        "    sum_rewards[arm]+=reward\n",
        "    \n",
        "    # Rewards\n",
        "    \n",
        "    # calculate Q value which is the average rewards of the arm\n",
        "    Q[arm] = sum_rewards[arm]/count[arm]\n",
        "    #print(\"Estimated rewards are:{} \".format(Q[arm]))\n",
        "    \n",
        "    # \n",
        "    R[_][i] = np.mean(Q) #[arm]\n",
        "\n",
        "print( 'The optimal arm is {}'.format(np.argmax(Q)))\n",
        "#print()"
      ],
      "execution_count": 0,
      "outputs": [
        {
          "output_type": "stream",
          "text": [
            "The optimal arm is 3\n"
          ],
          "name": "stdout"
        }
      ]
    },
    {
      "cell_type": "code",
      "metadata": {
        "id": "6OYtUfiQaBQB",
        "colab_type": "code",
        "outputId": "8be17b8a-480e-4466-fb3a-4dc8b923b874",
        "colab": {
          "base_uri": "https://localhost:8080/",
          "height": 238
        }
      },
      "source": [
        "print(R)\n",
        "#len(R)"
      ],
      "execution_count": 0,
      "outputs": [
        {
          "output_type": "stream",
          "text": [
            "[[ 0.02914863  0.03300359 -0.01546408 ...  0.11009527  0.11009029\n",
            "   0.11009166]\n",
            " [ 0.11009034  0.11009389  0.11010445 ...  0.11033127  0.11033127\n",
            "   0.11033258]\n",
            " [ 0.11033517  0.11033664  0.11033565 ...  0.10994928  0.10994975\n",
            "   0.10995059]\n",
            " ...\n",
            " [ 0.10952962  0.10952969  0.10952966 ...  0.1095292   0.10952924\n",
            "   0.10952923]\n",
            " [ 0.10952928  0.10952923  0.10952924 ...  0.10952744  0.10952756\n",
            "   0.10952746]\n",
            " [ 0.10952752  0.10952761  0.10952764 ...  0.1095237   0.10952367\n",
            "   0.10952365]]\n"
          ],
          "name": "stdout"
        }
      ]
    },
    {
      "cell_type": "code",
      "metadata": {
        "id": "0nHAHqMpMefm",
        "colab_type": "code",
        "outputId": "02e6522d-e2c3-4053-8ed2-d765a33914c2",
        "colab": {
          "base_uri": "https://localhost:8080/",
          "height": 51
        }
      },
      "source": [
        "R.shape\n",
        "l = R.mean(0)\n",
        "print(l)\n",
        "len(l)"
      ],
      "execution_count": 0,
      "outputs": [
        {
          "output_type": "stream",
          "text": [
            "[0.10889697 0.10893558 0.108451   ... 0.10970079 0.10970072 0.10970077]\n"
          ],
          "name": "stdout"
        },
        {
          "output_type": "execute_result",
          "data": {
            "text/plain": [
              "20000"
            ]
          },
          "metadata": {
            "tags": []
          },
          "execution_count": 6
        }
      ]
    },
    {
      "cell_type": "code",
      "metadata": {
        "id": "XlgfsSzPXfad",
        "colab_type": "code",
        "colab": {}
      },
      "source": [
        ""
      ],
      "execution_count": 0,
      "outputs": []
    },
    {
      "cell_type": "code",
      "metadata": {
        "id": "l63hndknNk7m",
        "colab_type": "code",
        "outputId": "15fce8e8-3208-42d5-b5c1-b9fc7cfb4dd7",
        "colab": {
          "base_uri": "https://localhost:8080/",
          "height": 296
        }
      },
      "source": [
        "%matplotlib inline\n",
        "import matplotlib.pyplot as plt\n",
        "\n",
        "plt.plot(l)\n",
        "plt.xlabel('Time')\n",
        "plt.ylabel('Reward for epsilon = 0')"
      ],
      "execution_count": 0,
      "outputs": [
        {
          "output_type": "execute_result",
          "data": {
            "text/plain": [
              "Text(0, 0.5, 'Reward for epsilon = 0')"
            ]
          },
          "metadata": {
            "tags": []
          },
          "execution_count": 7
        },
        {
          "output_type": "display_data",
          "data": {
            "image/png": "[encoded data removed]",
            "text/plain": [
              "<Figure size 432x288 with 1 Axes>"
            ]
          },
          "metadata": {
            "tags": []
          }
        }
      ]
    },
    {
      "cell_type": "code",
      "metadata": {
        "id": "5TJyg3gTGNDw",
        "colab_type": "code",
        "outputId": "67bb4a84-b550-420e-dd46-943abf8f86a1",
        "colab": {
          "base_uri": "https://localhost:8080/",
          "height": 296
        }
      },
      "source": [
        "%matplotlib inline\n",
        "import matplotlib.pyplot as plt\n",
        "\n",
        "plt.plot(l)\n",
        "plt.xlabel('Time')\n",
        "plt.ylabel('Reward for epsilon = 0.01')"
      ],
      "execution_count": 0,
      "outputs": [
        {
          "output_type": "execute_result",
          "data": {
            "text/plain": [
              "Text(0, 0.5, 'Reward for epsilon = 0.01')"
            ]
          },
          "metadata": {
            "tags": []
          },
          "execution_count": 7
        },
        {
          "output_type": "display_data",
          "data": {
            "image/png": "[encoded data removed]",
            "text/plain": [
              "<Figure size 432x288 with 1 Axes>"
            ]
          },
          "metadata": {
            "tags": []
          }
        }
      ]
    }
  ]
}